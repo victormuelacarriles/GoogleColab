{
  "nbformat": 4,
  "nbformat_minor": 0,
  "metadata": {
    "colab": {
      "name": "Probando Hashcat.ipynb",
      "provenance": [],
      "authorship_tag": "ABX9TyMaI7N+44Cj9uyxArIy+zvi",
      "include_colab_link": true
    },
    "kernelspec": {
      "name": "python3",
      "display_name": "Python 3"
    },
    "accelerator": "GPU"
  },
  "cells": [
    {
      "cell_type": "markdown",
      "metadata": {
        "id": "view-in-github",
        "colab_type": "text"
      },
      "source": [
        "<a href=\"https://colab.research.google.com/github/victormuelacarriles/GoogleColab/blob/main/Probando_Hashcat.ipynb\" target=\"_parent\"><img src=\"https://colab.research.google.com/assets/colab-badge.svg\" alt=\"Open In Colab\"/></a>"
      ]
    },
    {
      "cell_type": "code",
      "metadata": {
        "id": "HZ1IOEJBxVOt",
        "colab": {
          "base_uri": "https://localhost:8080/"
        },
        "outputId": "da80436a-24e7-41df-8235-4365fff66edc"
      },
      "source": [
        "!echo -e \"\\n\\e[1;34mPreparación del entorno\\e[0m (tardara un par de minutos mínimo). Esta parte sólo hace falta ejecutarla una vez.\"               \r\n",
        "!echo \"Buscando paquetes nuevos...\"\r\n",
        "!apt update -y -q > /dev/null 2>&1\r\n",
        "!echo \"Actualizando paquetes...\"\r\n",
        "!apt upgrade -y -q > /dev/null 2>&1\r\n",
        "!echo \"Instalando hascat ...\"\r\n",
        "!apt install hashcat -y -q > /dev/null 2>&1\r\n",
        "!echo \"Instalando utilidades de pci ...\"\r\n",
        "!apt install pciutils -y -q > /dev/null 2>&1\r\n",
        "!echo \"Comprobando tarjeta gráfica...\"\r\n",
        "GPU_CARD = !lspci | grep NVIDIA\r\n",
        "if not GPU_CARD:\r\n",
        "    !echo -e \"\\n\\e[31;1m[!] No se ha encontrado una GPU NVIDA! (Revisar: Editar->Configuración del cuaderno->Aceleración por Hardware->GPU\\e[34;1m\"\r\n",
        "    !lspci\r\n",
        "else:\r\n",
        "    !echo -e \"\\e[1;34mEncontrada tarjeta gráfica NVIDIA\\e[0m\"\r\n",
        "    !echo -e \"\\e[1;34mTest de Velocidad\\e[0m\" \r\n",
        "    !hashcat --benchmark -m$tipoHASH > TestDeVelocidad.txt 2>&1\r\n",
        "    !cat TestDeVelocidad.txt|grep Device\r\n",
        "    !cat TestDeVelocidad.txt|grep Speed\r\n",
        "    !echo -e \"\\e[1;34mListo para trabajar.\\e[0m\""
      ],
      "execution_count": 2,
      "outputs": [
        {
          "output_type": "stream",
          "text": [
            "\n",
            "\u001b[1;34mPreparación del entorno\u001b[0m (tardara un par de minutos mínimo). Esta parte sólo hace falta ejecutarla una vez.\n",
            "Buscando paquetes nuevos...\n",
            "Actualizando paquetes...\n",
            "Instalando hascat ...\n",
            "Instalando utilidades de pci ...\n",
            "Comprobando tarjeta gráfica...\n",
            "\u001b[1;34mEncontrada tarjeta gráfica NVIDIA\u001b[0m\n",
            "\u001b[1;34mTest de Velocidad\u001b[0m\n",
            "\u001b[1;34mListo para trabajar.\u001b[0m\n"
          ],
          "name": "stdout"
        }
      ]
    },
    {
      "cell_type": "code",
      "metadata": {
        "id": "UsI7rkixetjf"
      },
      "source": [
        "#!rm ./potfile.txt\n",
        "!rm ficheroHASHES.txt\n",
        "tipoHASH=1000   #tipo NTLM   #https://www.browserling.com/tools/ntlm-hash\n",
        "!echo 4BF850B7E390F2F437603942423187C4 >>ficheroHASHES.txt #cosa en NTLM\n",
        "!echo B57F325A2942488FD508C1C130D13682 >>ficheroHASHES.txt #cosuca en NTLM\n",
        "!echo F700E1777EAD870B6543CEB06583E074 >>ficheroHASHES.txt #usuaria en NTLM   \n",
        "!echo F2AB082FA1B21C772EEA4193D454D7B0 >>ficheroHASHES.txt #usuario en NTLM   \n",
        "!echo 2E910C3936F4836AC29BBDC307536524 >>ficheroHASHES.txt #usuario@1 en NTLM\n",
        "!echo $HASH >>ficheroHASHES.txt\n",
        "\n",
        "#otros posibles intentos '?l?l?l?l?l?l?l?s?d','?u?l?l?l?l?l?l?s?d', '?u?u?u?u?u?u?u?u?u', '?a?a?a?a?a?a?a?a?a'\n",
        "for mascara in ['?l?l?l?l?l?l?l?s?d','?a?a?a?a?a?a?a?a?a?a?a?a?a']:\n",
        "    !echo -e \"\\e[0;34mBuscando \\e[1;34m$mascara\\e[0m\"\n",
        "    !hashcat -m$tipoHASH -a3 -w4 -O --potfile-path ./potfile.txt --increment  ficheroHASHES.txt $mascara #> /dev/null 2>&1\n",
        "    SinEncontrar=!hashcat -m$tipoHASH -a3 -w4 -O --potfile-path ./potfile.txt --increment --quiet ficheroHASHES.txt $mascara --left\n",
        "    if not SinEncontrar:\n",
        "        !echo -e \"\\n\\e[0;34mResueltos todos los hashes!\\e[0m\"\n",
        "        !hashcat -m$tipoHASH -a3 -w4 -O --potfile-path ./potfile.txt --increment --quiet ficheroHASHES.txt $mascara --show\n",
        "        break\n",
        "\n",
        "\n"
      ],
      "execution_count": null,
      "outputs": []
    },
    {
      "cell_type": "code",
      "metadata": {
        "id": "Jae_9tGaWAJs"
      },
      "source": [
        "!hashcat -m$tipoHASH -a3 -w4 -O --potfile-path ./potfile.txt --increment  ficheroHASHES.txt '?a?a?a?a?a?a?a?a?a?a?a?a?a' #> /dev/null 2>&1"
      ],
      "execution_count": null,
      "outputs": []
    },
    {
      "cell_type": "code",
      "metadata": {
        "id": "vkImtU32579u"
      },
      "source": [
        "!hashcat --help"
      ],
      "execution_count": null,
      "outputs": []
    },
    {
      "cell_type": "code",
      "metadata": {
        "id": "JK2OvH7-6YM8"
      },
      "source": [
        "!hashcat -m$tipoHASH -a3 -w4 -O  --speed-only --quiet ficheroHASHES.txt ?l?l?l?l?l?l?l \r\n",
        "#!hashcat --benchmark -m1000 > benchmark.txt\r\n",
        "#!cat benchmark.txt|grep Device\r\n",
        "#!cat benchmark.txt|grep Speed"
      ],
      "execution_count": null,
      "outputs": []
    }
  ]
}