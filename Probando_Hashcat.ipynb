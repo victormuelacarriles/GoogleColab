{
  "nbformat": 4,
  "nbformat_minor": 0,
  "metadata": {
    "colab": {
      "name": "Probando Hashcat.ipynb",
      "provenance": [],
      "collapsed_sections": [],
      "authorship_tag": "ABX9TyPi2HfZqPxRRAJ77lq8r68U",
      "include_colab_link": true
    },
    "kernelspec": {
      "name": "python3",
      "display_name": "Python 3"
    },
    "accelerator": "GPU"
  },
  "cells": [
    {
      "cell_type": "markdown",
      "metadata": {
        "id": "view-in-github",
        "colab_type": "text"
      },
      "source": [
        "<a href=\"https://colab.research.google.com/github/victormuelacarriles/GoogleColab/blob/main/Probando_Hashcat.ipynb\" target=\"_parent\"><img src=\"https://colab.research.google.com/assets/colab-badge.svg\" alt=\"Open In Colab\"/></a>"
      ]
    },
    {
      "cell_type": "markdown",
      "metadata": {
        "id": "BBf_t9MYleJ3"
      },
      "source": [
        "**Probando Hascat desde los servidores de google**\r\n",
        "Esta prueba se basa en modificaciones del proyecto Cloudtopolis (https://github.com/JoelGMSec/Cloudtopolis).\r\n",
        "\r\n",
        "En lugar de buscar multiples sesiones, simplemente se quiere ejecutar una sesión para resolver hashes (en concreto de NTML).\r\n",
        "Se ha divido en varias secciones:\r\n",
        "\r\n",
        "1º) Preparar entorno\r\n",
        "2º) Preparar fichero con hashes\r\n",
        "3º) Comprobar velocidad de trabajo\r\n",
        "4º) Busqueda de hashes"
      ]
    },
    {
      "cell_type": "markdown",
      "metadata": {
        "id": "ijf26YYy3E-Q"
      },
      "source": [
        "# 1º)Preparación de entorno\r\n",
        "Se actualizan paquetes e instalan hascat y utilidades para comprobar la tarjeta gráfica. "
      ]
    },
    {
      "cell_type": "code",
      "metadata": {
        "id": "HZ1IOEJBxVOt",
        "colab": {
          "base_uri": "https://localhost:8080/"
        },
        "outputId": "24f2f90c-57ba-4fa6-e9c9-640624a3179b"
      },
      "source": [
        "!echo -e \"\\n\\e[1;34mPreparación del entorno\\e[0m (tardara un par de minutos mínimo). Esta parte sólo hace falta ejecutarla una vez.\"               \r\n",
        "!echo \"Buscando paquetes nuevos...\"\r\n",
        "!apt update -y -q > /dev/null 2>&1\r\n",
        "!echo \"Actualizando paquetes...\"\r\n",
        "!apt upgrade -y -q > /dev/null 2>&1\r\n",
        "!echo \"Instalando hashcat ...\"\r\n",
        "!apt install hashcat -y -q > /dev/null 2>&1\r\n",
        "!echo \"Instalando utilidades de pci ...\"\r\n",
        "!apt install pciutils -y -q > /dev/null 2>&1\r\n",
        "\r\n",
        "\r\n",
        "\r\n",
        "!echo -e \"\\e[1;34mListo para trabajar. Asegúrate de tener un fichero 'ficheroHASHES.txt' creado antes de empezar la explotación\\e[0m\"\r\n"
      ],
      "execution_count": null,
      "outputs": [
        {
          "output_type": "stream",
          "text": [
            "\n",
            "\u001b[1;34mPreparación del entorno\u001b[0m (tardara un par de minutos mínimo). Esta parte sólo hace falta ejecutarla una vez.\n",
            "Buscando paquetes nuevos...\n",
            "Actualizando paquetes...\n",
            "Instalando hashcat ...\n",
            "Instalando utilidades de pci ...\n",
            "Mounted at /content/drive\n",
            "\u001b[1;34mListo para trabajar. Asegúrate de tener un fichero 'ficheroHASHES.txt' creado antes de empezar la explotación\u001b[0m\n"
          ],
          "name": "stdout"
        }
      ]
    },
    {
      "cell_type": "markdown",
      "metadata": {
        "id": "XomHyBam3NDK"
      },
      "source": [
        "# 2º) Preparación de fichero con hashes\r\n",
        "Se crea el fichero \"ficheroHASHES.txt\" con unos cuantos hashes de ejemplo de tipo NTLM. \r\n",
        "Se establece la variable tipoHASH a 1000 (para indicar el tipo NTLM). Para otros tipos ver la ayuda de hashcat.\r\n"
      ]
    },
    {
      "cell_type": "code",
      "metadata": {
        "id": "CGTeu3wceoSA"
      },
      "source": [
        "!rm ficheroHASHES.txt 2>/dev/null\r\n",
        "tipoHASH=1000   #tipo NTLM   #https://www.browserling.com/tools/ntlm-hash\r\n",
        "\r\n",
        "#!echo _ >>ficheroHASHES.txt # _ en NTLM\r\n",
        "#!echo _ >>ficheroHASHES.txt # _ en NTLM\r\n",
        "!echo 93CC2B4D5D1FCCC38FAB249A9AEDB1E3 >>ficheroHASHES.txt # c en NTLM\r\n",
        "!echo 8D3647093E662B9CF9D19C804C4655B6 >>ficheroHASHES.txt # ? en NTLM\r\n",
        "!echo BF2A48EF8AC2E1705E93E823D9D2F7D7 >>ficheroHASHES.txt # co en NTLM\r\n",
        "!echo 59C457395A6179A3784FB6DDA1CB9D14 >>ficheroHASHES.txt # c# en NTLM\r\n",
        "!echo 00557E9D1DCD89164042625EF5DBA40C >>ficheroHASHES.txt # cos en NTLM\r\n",
        "!echo 4613A1B81BF538B494FAB43CB9108EA1 >>ficheroHASHES.txt # co% en NTLM\r\n",
        "!echo 4BF850B7E390F2F437603942423187C4 >>ficheroHASHES.txt #cosa en NTLM\r\n",
        "!echo 452C129E4FB354AD1D7D44F52236C2CB >>ficheroHASHES.txt #cos¿ en NTLM\r\n",
        "!echo B57F325A2942488FD508C1C130D13682 >>ficheroHASHES.txt #cosuca en NTLM\r\n",
        "!echo F700E1777EAD870B6543CEB06583E074 >>ficheroHASHES.txt #usuaria en NTLM   \r\n",
        "!echo F2AB082FA1B21C772EEA4193D454D7B0 >>ficheroHASHES.txt #usuario en NTLM   \r\n",
        "!echo 2E910C3936F4836AC29BBDC307536524 >>ficheroHASHES.txt #usuario@1 en NTLM\r\n",
        "!echo $HASH >>ficheroHASHES.txt\r\n",
        "!echo -e \"\\e[1;34mCreado fichero de hashes tipo \"$tipoHASH\". Contenido:\\e[0m\"\r\n",
        "!cat ficheroHASHES.txt\r\n",
        "\r\n"
      ],
      "execution_count": null,
      "outputs": []
    },
    {
      "cell_type": "markdown",
      "metadata": {
        "id": "RTehjNYf4y6Y"
      },
      "source": [
        "#3º) Comprobación de velocidad para búsquedas de tipo 1000 (NTLM).\r\n",
        "Referencia Tarjeta gráfica básica:   GeForce GT 1030, 1660/2048 MB, 3MCU\r\n",
        "Speed.:  6717.8 MH/s (29.78ms) @ Accel:64 Loops:1024 Thr:1024 Vec:8\r\n"
      ]
    },
    {
      "cell_type": "code",
      "metadata": {
        "id": "pvId-nI_4BBR"
      },
      "source": [
        "GPU_CARD = !lspci | grep NVIDIA\r\n",
        "if not GPU_CARD:\r\n",
        "    !echo -e \"\\n\\e[31;1m[!] No se ha encontrado una GPU NVIDA! (Revisar: Editar->Configuración del cuaderno->Aceleración por Hardware->GPU\\e[34;1m\"\r\n",
        "    !lspci\r\n",
        "else:\r\n",
        "    !echo -e \"\\e[1;34mEncontrada tarjeta gráfica NVIDIA\\e[0m\"\r\n",
        "    !echo -e \"\\e[1;34mTest de Velocidad para tipo 1000\\e[0m\" \r\n",
        "    !hashcat --benchmark -m1000 > TestDeVelocidad.txt 2>/dev/null\r\n",
        "    !cat TestDeVelocidad.txt|grep Device\r\n",
        "    !cat TestDeVelocidad.txt|grep Speed\r\n",
        "   "
      ],
      "execution_count": null,
      "outputs": []
    },
    {
      "cell_type": "markdown",
      "metadata": {
        "id": "5wjs_g6g6b3S"
      },
      "source": [
        "# 4º) Búsqueda de Hashes"
      ]
    },
    {
      "cell_type": "code",
      "metadata": {
        "id": "rNfuS0OR2rMv",
        "colab": {
          "base_uri": "https://localhost:8080/",
          "height": 531
        },
        "outputId": "20a524e8-b945-4dd7-f910-03ed50cc4fc4"
      },
      "source": [
        "#Trabajando como hilos\r\n",
        "import threading\r\n",
        "import time, datetime\r\n",
        "\r\n",
        "def MuestraContenidoPotFile( ficheroPot=\"./potfile.txt\"):\r\n",
        "    ContenidoPotFile=!cat $ficheroPorFileaUsar 2>/dev/null\r\n",
        "    if (not ContenidoPotFile ):\r\n",
        "      !echo -e \"\\e[1;34mPotfile vacio\\e[0m\"\r\n",
        "    else:\r\n",
        "      !echo -e \"\\e[1;34m-----------------------------------------------------------------------------------------------\\e[0m\"\r\n",
        "      !cat $ficheroPot  \r\n",
        "      !echo -e \"\\e[1;34m-----------------------------------------------------------------------------------------------\\e[0m\"\r\n",
        "    \r\n",
        "\r\n",
        "def EjecutaHashcatDeMascara(mascaraausar, tipoDeIncremento=\"--increment\", tipoHASH=1000,  ficheroPot=\"./potfile.txt\"):\r\n",
        "    inicio=datetime.datetime.now()\r\n",
        "    !echo -e \"\\e[0;34mBuscando \\e[1;34m\"$mascaraausar\" \"$tipoDeIncremento \" tipoHASH=\"$tipoHASH \" ficheroPot=\"$ficheroPot \"\\e[0m\"\r\n",
        "    print(datetime.datetime.now(),': Inicio de hashcat ' )\r\n",
        "    !hashcat -m$tipoHASH -a3 -w4 -O --potfile-path $ficheroPot $tipoDeIncremento  ficheroHASHES.txt $mascaraausar > /dev/null #2>&1\r\n",
        "    SinEncontrar=!hashcat -m$tipoHASH -a3 -w4 -O --potfile-path $ficheroPot $tipoDeIncremento --quiet ficheroHASHES.txt $mascaraausar --left\r\n",
        "    fin=datetime.datetime.now()\r\n",
        "    segundosEmpleados=round((fin-inicio).total_seconds(),2)\r\n",
        "    !echo -e \"\\e[1;34mFin de máscara \" $mascaraausar \". Resueltos (\"$segundosEmpleados\"sg):\\e[0;34m\"\r\n",
        "    MuestraContenidoPotFile(ficheroPot)\r\n",
        "\r\n",
        "def GuardaEnDrive(nombreDeFichero, textoAguardar):\r\n",
        "    drive.mount('/content/drive')\r\n",
        "    with open('/content/drive/My Drive/$nombreDeFichero', 'w') as f:\r\n",
        "        f.write(textoAguardar)\r\n",
        "    drive.flush_and_unmount();\r\n",
        "\r\n",
        "\r\n",
        "def GuardaPotEnDrive(ficheroPot=\"./potfile.txt\"):\r\n",
        "    drive.mount('/content/drive')\r\n",
        "    ahora=\"F\"+datetime.datetime.now().strftime(\"%Y%m%d-%HH%MM%SS\")+\".potfile.txt\"\r\n",
        "    !cp ./potfile.txt  /content/drive/My\\ Drive/$ahora\r\n",
        "    drive.flush_and_unmount();\r\n",
        "\r\n",
        "tipoHASH=1000    \r\n",
        "ficheroPotFileaUsar=\"./potfile.txt\"\r\n",
        "incrementoPredeterminado=\"\"  #\"--increment --increment-min 8\"\r\n",
        "inicioEjecucion=datetime.datetime.now()\r\n",
        "\r\n",
        "!echo -e \"\\n\\e[1;34mConectando google drive para guardado de resultaos\\e[0m (Pulsar el enlace y rellenar con el id solicitado)\" \r\n",
        "from google.colab import drive\r\n",
        "drive.mount('/content/drive')\r\n",
        "drive.flush_and_unmount();\r\n",
        "\r\n",
        "\r\n",
        "!rm $ficheroPotFileaUsar\r\n",
        "\r\n",
        "for mascara in ['?u?l?l?l?s?d?d', '?u?l?l?l?l?s?d?d' ,'?u?l?l?l?l?l?s?d?d']:            # ,'?u?l?l?l?a?a?a?a?a?a?a?a?a']: #, \"?a?l?a?a\"\r\n",
        "  x = threading.Thread(target=EjecutaHashcatDeMascara, args=(mascara,incrementoPredeterminado,tipoHASH,ficheroPotFileaUsar), daemon=False)\r\n",
        "  x.start()\r\n",
        "  incrementoDeEspera=1;\r\n",
        "  ContenidoPotFileAnterior=!cat $ficheroPotFileaUsar\r\n",
        "  while x.isAlive():\r\n",
        "      #Esperamos un tiempo a evaluar\r\n",
        "      time.sleep(incrementoDeEspera)\r\n",
        "      contadorsegundos=round((datetime.datetime.now()-inicioEjecucion).total_seconds(),0) \r\n",
        "      #Comprobamos si se han encontrado nuevos hashes\r\n",
        "      ContenidoPotFile=!cat $ficheroPotFileaUsar\r\n",
        "      if (ContenidoPotFile != ContenidoPotFileAnterior):\r\n",
        "        MuestraContenidoPotFile()\r\n",
        "        GuardaPotEnDrive(ficheroPotFileaUsar)\r\n",
        "      ContenidoPotFileAnterior=ContenidoPotFile\r\n",
        "      #Cada 5minutos mostramos un contador (....TODO: y salvamos hashes en GoogleDrive)\r\n",
        "      if (contadorsegundos%(60)==0 and contadorsegundos>0):\r\n",
        "        texto=\"\"+datetime.datetime.now()+\": Tiempo transcurrido \" + (contadorsegundos/60) + \"mn....\"\r\n",
        "        print(texto)\r\n",
        "        GuardaPotEnDrive(\"Evolucion.txt\",texto)\r\n",
        "      \r\n",
        "      \r\n"
      ],
      "execution_count": null,
      "outputs": [
        {
          "output_type": "stream",
          "text": [
            "\n",
            "\u001b[1;34mConectando google drive para guardado de resultaos\u001b[0m (Pulsar el enlace y rellenar con el id solicitado)\n",
            "Mounted at /content/drive\n",
            "rm: cannot remove './potfile.txt': No such file or directory\n",
            "\u001b[31mnvmlDeviceGetFanSpeed(): Not Supported\u001b[0m\n",
            "\n",
            "\u001b[1;34mPotfile vacio\u001b[0m\n",
            "Mounted at /content/drive\n",
            "\u001b[1;34mFin de máscara  ?u?l?l?l?s?d?d . Resueltos (12.85sg):\u001b[0;34m\n",
            "\u001b[1;34mPotfile vacio\u001b[0m\n",
            "\u001b[31mnvmlDeviceGetFanSpeed(): Not Supported\u001b[0m\n",
            "\n",
            "tcmalloc: large alloc 2997329920 bytes == 0x556d6b700000 @  0x7f01848c8001 0x556d2d6405d1 0x556d2d640612 0x556d2d64cc15 0x556d2d601652 0x556d2d601c4c 0x556d2d5ea2af 0x7f01840a0bf7 0x556d2d5e8b4a\n",
            "\u001b[1;34mPotfile vacio\u001b[0m\n",
            "\u001b[0;34mBuscando \u001b[1;34m?u?l?l?l?l?l?s?d?d   tipoHASH=1000  ficheroPot=./potfile.txt \u001b[0m\n",
            "2021-01-04 16:17:25.523218 : Inicio de hashcat \n",
            "\u001b[31mnvmlDeviceGetFanSpeed(): Not Supported\u001b[0m\n",
            "\n"
          ],
          "name": "stdout"
        },
        {
          "output_type": "error",
          "ename": "TypeError",
          "evalue": "ignored",
          "traceback": [
            "\u001b[0;31m---------------------------------------------------------------------------\u001b[0m",
            "\u001b[0;31mTypeError\u001b[0m                                 Traceback (most recent call last)",
            "\u001b[0;32m<ipython-input-42-336b51bd72f2>\u001b[0m in \u001b[0;36m<module>\u001b[0;34m()\u001b[0m\n\u001b[1;32m     67\u001b[0m       \u001b[0;31m#Cada 5minutos mostramos un contador (....TODO: y salvamos hashes en GoogleDrive)\u001b[0m\u001b[0;34m\u001b[0m\u001b[0;34m\u001b[0m\u001b[0;34m\u001b[0m\u001b[0m\n\u001b[1;32m     68\u001b[0m       \u001b[0;32mif\u001b[0m \u001b[0;34m(\u001b[0m\u001b[0mcontadorsegundos\u001b[0m\u001b[0;34m%\u001b[0m\u001b[0;34m(\u001b[0m\u001b[0;36m60\u001b[0m\u001b[0;34m)\u001b[0m\u001b[0;34m==\u001b[0m\u001b[0;36m0\u001b[0m \u001b[0;32mand\u001b[0m \u001b[0mcontadorsegundos\u001b[0m\u001b[0;34m>\u001b[0m\u001b[0;36m0\u001b[0m\u001b[0;34m)\u001b[0m\u001b[0;34m:\u001b[0m\u001b[0;34m\u001b[0m\u001b[0;34m\u001b[0m\u001b[0m\n\u001b[0;32m---> 69\u001b[0;31m         \u001b[0mtexto\u001b[0m\u001b[0;34m=\u001b[0m\u001b[0;34m\"\"\u001b[0m\u001b[0;34m+\u001b[0m\u001b[0mdatetime\u001b[0m\u001b[0;34m.\u001b[0m\u001b[0mdatetime\u001b[0m\u001b[0;34m.\u001b[0m\u001b[0mnow\u001b[0m\u001b[0;34m(\u001b[0m\u001b[0;34m)\u001b[0m\u001b[0;34m+\u001b[0m\u001b[0;34m\": Tiempo transcurrido \"\u001b[0m \u001b[0;34m+\u001b[0m \u001b[0;34m(\u001b[0m\u001b[0mcontadorsegundos\u001b[0m\u001b[0;34m/\u001b[0m\u001b[0;36m60\u001b[0m\u001b[0;34m)\u001b[0m \u001b[0;34m+\u001b[0m \u001b[0;34m\"mn....\"\u001b[0m\u001b[0;34m\u001b[0m\u001b[0;34m\u001b[0m\u001b[0m\n\u001b[0m\u001b[1;32m     70\u001b[0m         \u001b[0mprint\u001b[0m\u001b[0;34m(\u001b[0m\u001b[0mtexto\u001b[0m\u001b[0;34m)\u001b[0m\u001b[0;34m\u001b[0m\u001b[0;34m\u001b[0m\u001b[0m\n\u001b[1;32m     71\u001b[0m         \u001b[0mGuardaPotEnDrive\u001b[0m\u001b[0;34m(\u001b[0m\u001b[0;34m\"Evolucion.txt\"\u001b[0m\u001b[0;34m,\u001b[0m\u001b[0mtexto\u001b[0m\u001b[0;34m)\u001b[0m\u001b[0;34m\u001b[0m\u001b[0;34m\u001b[0m\u001b[0m\n",
            "\u001b[0;31mTypeError\u001b[0m: must be str, not datetime.datetime"
          ]
        }
      ]
    },
    {
      "cell_type": "markdown",
      "metadata": {
        "id": "sxnsSAoe7w-_"
      },
      "source": [
        "# Trozos de código de pruebas"
      ]
    },
    {
      "cell_type": "code",
      "metadata": {
        "id": "vkImtU32579u"
      },
      "source": [
        "#Para ver la ayuda de hascat completa:\r\n",
        "!hashcat --help"
      ],
      "execution_count": null,
      "outputs": []
    },
    {
      "cell_type": "code",
      "metadata": {
        "id": "Jae_9tGaWAJs"
      },
      "source": [
        "#Ejemplo de ejecución\r\n",
        "!hashcat -m$tipoHASH -a3 -w4 -O --potfile-path ./potfile.txt --increment ficheroHASHES.txt '?u' "
      ],
      "execution_count": null,
      "outputs": []
    }
  ]
}