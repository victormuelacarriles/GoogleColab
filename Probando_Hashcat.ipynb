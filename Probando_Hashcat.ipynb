{
  "nbformat": 4,
  "nbformat_minor": 0,
  "metadata": {
    "accelerator": "GPU",
    "colab": {
      "name": "Probando Hashcat.ipynb",
      "provenance": [],
      "collapsed_sections": [],
      "toc_visible": true,
      "authorship_tag": "ABX9TyNxRv0imMQsms3Udp/tky7P",
      "include_colab_link": true
    },
    "kernelspec": {
      "display_name": "Python 3",
      "name": "python3"
    }
  },
  "cells": [
    {
      "cell_type": "markdown",
      "metadata": {
        "id": "view-in-github",
        "colab_type": "text"
      },
      "source": [
        "<a href=\"https://colab.research.google.com/github/victormuelacarriles/GoogleColab/blob/main/Probando_Hashcat.ipynb\" target=\"_parent\"><img src=\"https://colab.research.google.com/assets/colab-badge.svg\" alt=\"Open In Colab\"/></a>"
      ]
    },
    {
      "cell_type": "markdown",
      "metadata": {
        "id": "BBf_t9MYleJ3"
      },
      "source": [
        "**Probando Hascat desde los servidores de google**\r\n",
        "Esta prueba se basa en modificaciones del proyecto Cloudtopolis (https://github.com/JoelGMSec/Cloudtopolis).\r\n",
        "\r\n",
        "En lugar de buscar multiples sesiones, simplemente se quiere ejecutar una sesión para resolver hashes (en concreto de NTML).\r\n",
        "Se ha divido en varias secciones:\r\n",
        "\r\n",
        "1º) Preparar entorno\r\n",
        "2º) Preparar fichero con hashes\r\n",
        "3º) Comprobar velocidad de trabajo\r\n",
        "4º) Busqueda de hashes"
      ]
    },
    {
      "cell_type": "markdown",
      "metadata": {
        "id": "ijf26YYy3E-Q"
      },
      "source": [
        "# 1º)Preparación de entorno\r\n",
        "Se actualizan paquetes e instalan hascat y utilidades para comprobar la tarjeta gráfica. "
      ]
    },
    {
      "cell_type": "code",
      "metadata": {
        "colab": {
          "base_uri": "https://localhost:8080/"
        },
        "id": "HZ1IOEJBxVOt",
        "outputId": "849ee7d4-1b98-4917-a586-d82120ea12ab"
      },
      "source": [
        "!echo -e \"\\n\\e[1;34mPreparación del entorno\\e[0m (tardara un par de minutos mínimo). Esta parte sólo hace falta ejecutarla una vez.\"               \r\n",
        "!echo \"Buscando paquetes nuevos...\"\r\n",
        "!apt update -y -q > /dev/null 2>&1\r\n",
        "!echo \"Actualizando paquetes...\"\r\n",
        "!apt upgrade -y -q > /dev/null 2>&1\r\n",
        "!echo \"Instalando hashcat ...\"\r\n",
        "!apt install hashcat -y -q > /dev/null 2>&1\r\n",
        "!echo \"Instalando utilidades de pci ...\"\r\n",
        "!apt install pciutils -y -q > /dev/null 2>&1\r\n",
        "\r\n",
        "\r\n",
        "\r\n",
        "!echo -e \"\\e[1;34mListo para trabajar. Asegúrate de tener un fichero 'ficheroHASHES.txt' creado antes de empezar la explotación\\e[0m\"\r\n"
      ],
      "execution_count": 1,
      "outputs": [
        {
          "output_type": "stream",
          "text": [
            "\n",
            "\u001b[1;34mPreparación del entorno\u001b[0m (tardara un par de minutos mínimo). Esta parte sólo hace falta ejecutarla una vez.\n",
            "Buscando paquetes nuevos...\n",
            "Actualizando paquetes...\n",
            "Instalando hashcat ...\n",
            "Instalando utilidades de pci ...\n",
            "\u001b[1;34mListo para trabajar. Asegúrate de tener un fichero 'ficheroHASHES.txt' creado antes de empezar la explotación\u001b[0m\n"
          ],
          "name": "stdout"
        }
      ]
    },
    {
      "cell_type": "markdown",
      "metadata": {
        "id": "XomHyBam3NDK"
      },
      "source": [
        "# 2º) Preparación de fichero con hashes\r\n",
        "Se crea el fichero \"ficheroHASHES.txt\" con unos cuantos hashes de ejemplo de tipo NTLM. \r\n",
        "Se establece la variable tipoHASH a 1000 (para indicar el tipo NTLM). Para otros tipos ver la ayuda de hashcat.\r\n"
      ]
    },
    {
      "cell_type": "code",
      "metadata": {
        "id": "CGTeu3wceoSA",
        "colab": {
          "base_uri": "https://localhost:8080/"
        },
        "outputId": "ac69c218-fdd4-4a30-e443-153bc2e21ca5"
      },
      "source": [
        "!rm ficheroHASHES.txt 2>/dev/null\r\n",
        "tipoHASH=1000   #tipo NTLM   #https://www.browserling.com/tools/ntlm-hash\r\n",
        "\r\n",
        "#!echo _ >>ficheroHASHES.txt # _ en NTLM\r\n",
        "#!echo _ >>ficheroHASHES.txt # _ en NTLM\r\n",
        "!echo 93CC2B4D5D1FCCC38FAB249A9AEDB1E3 >>ficheroHASHES.txt # c en NTLM\r\n",
        "!echo 8D3647093E662B9CF9D19C804C4655B6 >>ficheroHASHES.txt # ? en NTLM\r\n",
        "!echo BF2A48EF8AC2E1705E93E823D9D2F7D7 >>ficheroHASHES.txt # co en NTLM\r\n",
        "!echo 59C457395A6179A3784FB6DDA1CB9D14 >>ficheroHASHES.txt # c# en NTLM\r\n",
        "!echo 00557E9D1DCD89164042625EF5DBA40C >>ficheroHASHES.txt # cos en NTLM\r\n",
        "!echo 4613A1B81BF538B494FAB43CB9108EA1 >>ficheroHASHES.txt # co% en NTLM\r\n",
        "!echo 4BF850B7E390F2F437603942423187C4 >>ficheroHASHES.txt #cosa en NTLM\r\n",
        "!echo 452C129E4FB354AD1D7D44F52236C2CB >>ficheroHASHES.txt #cos¿ en NTLM\r\n",
        "!echo B57F325A2942488FD508C1C130D13682 >>ficheroHASHES.txt #cosuca en NTLM\r\n",
        "!echo F700E1777EAD870B6543CEB06583E074 >>ficheroHASHES.txt #usuaria en NTLM   \r\n",
        "!echo F2AB082FA1B21C772EEA4193D454D7B0 >>ficheroHASHES.txt #usuario en NTLM   \r\n",
        "!echo 2E910C3936F4836AC29BBDC307536524 >>ficheroHASHES.txt #usuario@1 en NTLM\r\n",
        "!echo $HASH >>ficheroHASHES.txt\r\n",
        "!echo -e \"\\e[1;34mCreado fichero de hashes tipo \"$tipoHASH\". Contenido:\\e[0m\"\r\n",
        "!cat ficheroHASHES.txt\r\n",
        "\r\n"
      ],
      "execution_count": 2,
      "outputs": [
        {
          "output_type": "stream",
          "text": [
            "\u001b[1;34mCreado fichero de hashes tipo 1000. Contenido:\u001b[0m\n",
            "93CC2B4D5D1FCCC38FAB249A9AEDB1E3\n",
            "8D3647093E662B9CF9D19C804C4655B6\n",
            "BF2A48EF8AC2E1705E93E823D9D2F7D7\n",
            "59C457395A6179A3784FB6DDA1CB9D14\n",
            "00557E9D1DCD89164042625EF5DBA40C\n",
            "4613A1B81BF538B494FAB43CB9108EA1\n",
            "4BF850B7E390F2F437603942423187C4\n",
            "452C129E4FB354AD1D7D44F52236C2CB\n",
            "B57F325A2942488FD508C1C130D13682\n",
            "F700E1777EAD870B6543CEB06583E074\n",
            "F2AB082FA1B21C772EEA4193D454D7B0\n",
            "2E910C3936F4836AC29BBDC307536524\n",
            "\n"
          ],
          "name": "stdout"
        }
      ]
    },
    {
      "cell_type": "markdown",
      "metadata": {
        "id": "RTehjNYf4y6Y"
      },
      "source": [
        "#3º) Comprobación de velocidad para búsquedas de tipo 1000 (NTLM).\r\n",
        "Referencia Tarjeta gráfica básica:   GeForce GT 1030, 1660/2048 MB, 3MCU\r\n",
        "Speed.:  6717.8 MH/s (29.78ms) @ Accel:64 Loops:1024 Thr:1024 Vec:8\r\n"
      ]
    },
    {
      "cell_type": "code",
      "metadata": {
        "id": "pvId-nI_4BBR",
        "colab": {
          "base_uri": "https://localhost:8080/"
        },
        "outputId": "10ea6e73-a361-4b74-b38c-fd9173a9ae5e"
      },
      "source": [
        "GPU_CARD = !lspci | grep NVIDIA\r\n",
        "if not GPU_CARD:\r\n",
        "    !echo -e \"\\n\\e[31;1m[!] No se ha encontrado una GPU NVIDA! (Revisar: Editar->Configuración del cuaderno->Aceleración por Hardware->GPU\\e[34;1m\"\r\n",
        "    !lspci\r\n",
        "else:\r\n",
        "    !echo -e \"\\e[1;34mEncontrada tarjeta gráfica NVIDIA\\e[0m\"\r\n",
        "    !echo -e \"\\e[1;34mTest de Velocidad para tipo 1000\\e[0m\" \r\n",
        "    !hashcat --benchmark -m1000 > TestDeVelocidad.txt 2>/dev/null\r\n",
        "    !cat TestDeVelocidad.txt|grep Device\r\n",
        "    !cat TestDeVelocidad.txt|grep Speed\r\n",
        "   "
      ],
      "execution_count": 3,
      "outputs": [
        {
          "output_type": "stream",
          "text": [
            "\u001b[1;34mEncontrada tarjeta gráfica NVIDIA\u001b[0m\n",
            "\u001b[1;34mTest de Velocidad para tipo 1000\u001b[0m\n",
            "* Device #1: Tesla T4, 3769/15079 MB allocatable, 40MCU\n",
            "Speed.Dev.#1.....: 36542.7 MH/s (36.62ms)\n"
          ],
          "name": "stdout"
        }
      ]
    },
    {
      "cell_type": "markdown",
      "metadata": {
        "id": "sxnsSAoe7w-_"
      },
      "source": [
        "# Trozos de código de pruebas"
      ]
    },
    {
      "cell_type": "code",
      "metadata": {
        "id": "vkImtU32579u"
      },
      "source": [
        "#Para ver la ayuda de hascat completa:\r\n",
        "!hashcat --help"
      ],
      "execution_count": 4,
      "outputs": []
    },
    {
      "cell_type": "code",
      "metadata": {
        "id": "Jae_9tGaWAJs"
      },
      "source": [
        "#Ejemplo de ejecución\r\n",
        "!hashcat -m$tipoHASH -a3 -w4 -O --potfile-path ./potfile.txt --increment ficheroHASHES.txt '?l?l?l' "
      ],
      "execution_count": null,
      "outputs": []
    },
    {
      "cell_type": "markdown",
      "metadata": {
        "id": "5wjs_g6g6b3S"
      },
      "source": [
        "# 4º) Búsqueda de Hashes"
      ]
    },
    {
      "cell_type": "code",
      "metadata": {
        "colab": {
          "base_uri": "https://localhost:8080/",
          "height": 1000
        },
        "id": "rNfuS0OR2rMv",
        "outputId": "21b82409-a751-4089-f6f2-f23d58847239"
      },
      "source": [
        "#Trabajando como hilos\r\n",
        "import threading\r\n",
        "import time, datetime\r\n",
        "\r\n",
        "def MuestraContenidoPotFile( ficheroPot=\"./potfile.txt\"):\r\n",
        "    #print(\"Mostrando contenido potfile \", ficheroPot )\r\n",
        "    ContenidoPotFile=!cat $ficheroPot 2>/dev/null\r\n",
        "    if (not ContenidoPotFile ):\r\n",
        "      #print(\"Potfile vacio\", ficheroPot )\r\n",
        "      !echo -e \"\\e[1;34mPotfile vacio\\e[0m\"\r\n",
        "    else:\r\n",
        "      #print(\"Potfile con conetnido:\", ContenidoPotFile )\r\n",
        "      !echo -e \"\\e[1;34m-----------------------------------------------------------------------------------------------\\e[0m\"\r\n",
        "      !cat $ficheroPot  \r\n",
        "      !echo -e \"\\e[1;34m-----------------------------------------------------------------------------------------------\\e[0m\"\r\n",
        "    \r\n",
        "\r\n",
        "def EjecutaHashcatDeMascara(mascaraausar, tipoDeIncremento=\"--increment\", tipoHASH=1000,  ficheroPot=\"./potfile.txt\"):\r\n",
        "    inicio=datetime.datetime.now()\r\n",
        "    !echo -e \"\\e[0;34mBuscando \\e[1;34m\"$mascaraausar\" \"$tipoDeIncremento \" tipoHASH=\"$tipoHASH \" ficheroPot=\"$ficheroPot \"\\e[0m\"\r\n",
        "    print(datetime.datetime.now(),': Inicio de hashcat ' )\r\n",
        "    !hashcat -m$tipoHASH -a3 -w4 -O --potfile-path $ficheroPot $tipoDeIncremento  ficheroHASHES.txt $mascaraausar > /dev/null 2>&1\r\n",
        "    SinEncontrar=!hashcat -m$tipoHASH -a3 -w4 -O --potfile-path $ficheroPot $tipoDeIncremento --quiet ficheroHASHES.txt $mascaraausar --left\r\n",
        "    fin=datetime.datetime.now()\r\n",
        "    segundosEmpleados=round((fin-inicio).total_seconds(),2)\r\n",
        "    !echo -e \"\\e[1;34mFin de máscara \" $mascaraausar \". Resueltos (\"$segundosEmpleados\"sg):\\e[0;34m\"\r\n",
        "    MuestraContenidoPotFile(ficheroPot)\r\n",
        "\r\n",
        "def GuardaEnDrive(nombreDeFichero, textoAguardar):\r\n",
        "    s=drive.mount('/content/drive', force_remount=True)\r\n",
        "    fichero=\"/content/drive/My Drive/HashCats/\"+nombreDeFichero\r\n",
        "    with open(fichero, 'w') as f:\r\n",
        "        f.write(textoAguardar)\r\n",
        "    drive.flush_and_unmount();\r\n",
        "\r\n",
        "\r\n",
        "def GuardaPotEnDrive(ficheroPot=\"./potfile.txt\"):\r\n",
        "    \r\n",
        "    s=drive.mount('/content/drive', force_remount=True)\r\n",
        "    ahora=\"/content/drive/My\\ Drive/HashCats/F\"+datetime.datetime.now().strftime(\"%Y%m%d-%H%M%S\")+\".potfile.txt\"\r\n",
        "    print(\"Guardando PorEnDrive:\", ficheroPot, \"->\", ahora)\r\n",
        "    !cp $ficheroPot $ahora\r\n",
        "    drive.flush_and_unmount();\r\n",
        "\r\n",
        "\r\n",
        "tipoHASH=1000    \r\n",
        "ficheroPotFileaUsar=\"./potfile.txt\"\r\n",
        "incrementoPredeterminado=\"--increment\" #\"\"  \"--increment--increment-min 8\"\r\n",
        "inicioEjecucion=datetime.datetime.now()\r\n",
        "\r\n",
        "\r\n",
        "!echo -e \"\\n\\e[1;34mConectando google drive para guardado de resultados\\e[0m (Pulsar el enlace y rellenar con el id solicitado)\" \r\n",
        "from google.colab import drive\r\n",
        "drive.mount('/content/drive')\r\n",
        "!mkdir /content/drive/My\\ Drive/HashCats 2>/dev/null\r\n",
        "drive.flush_and_unmount();\r\n",
        "\r\n",
        "#echo Borrando $ficheroPotFileaUsar\r\n",
        "#!rm $ficheroPotFileaUsar\r\n",
        "\r\n",
        "for mascara in ['?a?a?a?a?a?','?u?l?l?l?a?a?a?a?a?a?a?a?a', '?a?a?a?a?a?a?a?a?a?a?a?a?a']: #, \"?a?l?a?a\" #'?u?l?l?l?s?d?d', '?u?l?l?l?l?s?d?d' ,'?u?l?l?l?l?l?s?d?d']:            # ,\r\n",
        "  x = threading.Thread(target=EjecutaHashcatDeMascara, args=(mascara,incrementoPredeterminado,tipoHASH,ficheroPotFileaUsar), daemon=False)\r\n",
        "  x.start()\r\n",
        "  incrementoDeEspera=1;\r\n",
        "  ContenidoPotFileAnterior=!cat $ficheroPotFileaUsar\r\n",
        "  while x.isAlive():\r\n",
        "      #Esperamos un tiempo a evaluar\r\n",
        "      time.sleep(incrementoDeEspera)\r\n",
        "      contadorsegundos=round((datetime.datetime.now()-inicioEjecucion).total_seconds(),0) \r\n",
        "      #Comprobamos si se han encontrado nuevos hashes\r\n",
        "      ContenidoPotFile=!cat $ficheroPotFileaUsar\r\n",
        "      if (ContenidoPotFile != ContenidoPotFileAnterior):\r\n",
        "        MuestraContenidoPotFile()\r\n",
        "        GuardaPotEnDrive(ficheroPotFileaUsar)\r\n",
        "      ContenidoPotFileAnterior=ContenidoPotFile\r\n",
        "      #Cada 5minutos mostramos un contador (....TODO: y salvamos hashes en GoogleDrive)\r\n",
        "      if (contadorsegundos%(60)==0 and contadorsegundos>0):\r\n",
        "        texto=\"\"+datetime.datetime.now().strftime(\"%Y%m%d-%HH%MM%SS\")+\": Tiempo transcurrido \" + str(round(contadorsegundos/60,0)) + \"mn....\"\r\n",
        "        print(texto)\r\n",
        "        GuardaEnDrive(\"Evolucion.txt\",texto)\r\n",
        "      \r\n",
        "      \r\n"
      ],
      "execution_count": 6,
      "outputs": [
        {
          "output_type": "stream",
          "text": [
            "\n",
            "\u001b[1;34mConectando google drive para guardado de resultados\u001b[0m (Pulsar el enlace y rellenar con el id solicitado)\n",
            "Mounted at /content/drive\n",
            "hashcat (v4.0.1) starting...\n",
            "\n",
            "\u001b[31mnvmlDeviceGetFanSpeed(): Not Supported\u001b[0m\n",
            "\n",
            "OpenCL Platform #1: NVIDIA Corporation\n",
            "======================================\n",
            "* Device #1: Tesla T4, 3769/15079 MB allocatable, 40MCU\n",
            "\n",
            "Hashes: 12 digests; 12 unique digests, 1 unique salts\n",
            "Bitmaps: 16 bits, 65536 entries, 0x0000ffff mask, 262144 bytes, 5/13 rotates\n",
            "\n",
            "Applicable optimizers:\n",
            "* Optimized-Kernel\n",
            "* Zero-Byte\n",
            "* Precompute-Init\n",
            "* Precompute-Merkle-Demgard\n",
            "* Meet-In-The-Middle\n",
            "* Early-Skip\n",
            "* Not-Salted\n",
            "* Not-Iterated\n",
            "* Single-Salt\n",
            "* Brute-Force\n",
            "* Raw-Hash\n",
            "\n",
            "Password length minimum: 0\n",
            "Password length maximum: 27\n",
            "\n",
            "Watchdog: Temperature abort trigger set to 90c\n",
            "Watchdog: Temperature retain trigger disabled.\n",
            "\n",
            "\u001b[33m* Device #1: build_opts '-I /usr/share/hashcat/OpenCL -D VENDOR_ID=32 -D CUDA_ARCH=705 -D AMD_ROCM=0 -D VECT_SIZE=1 -D DEVICE_TYPE=4 -D DGST_R0=0 -D DGST_R1=3 -D DGST_R2=2 -D DGST_R3=1 -D DGST_ELEM=4 -D KERN_TYPE=1000 -D _unroll'\u001b[0m\n",
            "tcmalloc: large alloc 3951001600 bytes == 0x565168e6a000 @  0x7fc829337001 0x56512aafb5d1 0x56512aafb612 0x56512ab07c15 0x56512aabc652 0x56512aabcc4c 0x56512aaa52af 0x7fc828b0fbf7 0x56512aaa3b4a\n",
            "Initialized device kernels and memory...\u001b[1;34mPotfile vacio\u001b[0m\n",
            "Mounted at /content/drive\n",
            "Guardando PorEnDrive: ./potfile.txt -> /content/drive/My\\ Drive/HashCats/F20210105-11H09M21S.potfile.txt\n",
            "- Device #1: autotuned kernel-accel to 256\n",
            "- Device #1: autotuned kernel-loops to 95\n",
            "\u001b[33mThe wordlist or mask that you are using is too small.\u001b[0m\n",
            "\u001b[33mThis means that hashcat cannot use the full parallel power of your device(s).\u001b[0m\n",
            "\u001b[33mUnless you supply more work, your cracking speed will drop.\u001b[0m\n",
            "\u001b[33mFor tips on supplying more work, see: https://hashcat.net/faq/morework\u001b[0m\n",
            "\u001b[33m\u001b[0m\n",
            "\u001b[33mApproaching final keyspace - workload adjusted.\u001b[0m\n",
            "\u001b[33m\u001b[0m\n",
            "93cc2b4d5d1fccc38fab249a9aedb1e3:c\n",
            "8d3647093e662b9cf9d19c804c4655b6:?\n",
            "                                                          \n",
            "Session..........: hashcat\n",
            "Status...........: Exhausted\n",
            "Hash.Type........: NTLM\n",
            "Hash.Target......: ficheroHASHES.txt\n",
            "Time.Started.....: Tue Jan  5 11:09:21 2021 (0 secs)\n",
            "Time.Estimated...: Tue Jan  5 11:09:21 2021 (0 secs)\n",
            "Guess.Mask.......: ?a [1]\n",
            "Guess.Queue......: 1/8 (12.50%)\n",
            "Speed.Dev.#1.....:        0 H/s (0.11ms)\n",
            "Recovered........: 2/12 (16.67%) Digests, 0/1 (0.00%) Salts\n",
            "Progress.........: 95/95 (100.00%)\n",
            "Rejected.........: 0/95 (0.00%)\n",
            "Restore.Point....: 1/1 (100.00%)\n",
            "Candidates.#1....: s ->  \n",
            "HWMon.Dev.#1.....: Temp: 49c Util:100% Core:1155MHz Mem:5000MHz Bus:16\n",
            "\n",
            "- Device #1: autotuned kernel-accel to 256\n",
            "- Device #1: autotuned kernel-loops to 95\n",
            "[s]tatus [p]ause [r]esume [b]ypass [c]heckpoint [q]uit => \u001b[33mThe wordlist or mask that you are using is too small.\u001b[0m\n",
            "\u001b[33mThis means that hashcat cannot use the full parallel power of your device(s).\u001b[0m\n",
            "\u001b[33mUnless you supply more work, your cracking speed will drop.\u001b[0m\n",
            "\u001b[33mFor tips on supplying more work, see: https://hashcat.net/faq/morework\u001b[0m\n",
            "\u001b[33m\u001b[0m\n",
            "\u001b[33mApproaching final keyspace - workload adjusted.\u001b[0m\n",
            "\u001b[33m\u001b[0m\n",
            "59c457395a6179a3784fb6dda1cb9d14:c#\n",
            "bf2a48ef8ac2e1705e93e823d9d2f7d7:co\n",
            "                                                          \n",
            "Session..........: hashcat\n",
            "Status...........: Exhausted\n",
            "Hash.Type........: NTLM\n",
            "Hash.Target......: ficheroHASHES.txt\n",
            "Time.Started.....: Tue Jan  5 11:09:23 2021 (0 secs)\n",
            "Time.Estimated...: Tue Jan  5 11:09:23 2021 (0 secs)\n",
            "Guess.Mask.......: ?a?a [2]\n",
            "Guess.Queue......: 2/8 (25.00%)\n",
            "Speed.Dev.#1.....:     4146 H/s (0.11ms)\n",
            "Recovered........: 4/12 (33.33%) Digests, 0/1 (0.00%) Salts\n",
            "Progress.........: 9025/9025 (100.00%)\n",
            "Rejected.........: 0/9025 (0.00%)\n",
            "Restore.Point....: 95/95 (100.00%)\n",
            "Candidates.#1....: s  ->  ~\n",
            "HWMon.Dev.#1.....: Temp: 50c Util:100% Core:1200MHz Mem:5000MHz Bus:16\n",
            "\n",
            "- Device #1: autotuned kernel-accel to 256\n",
            "- Device #1: autotuned kernel-loops to 95\n",
            "[s]tatus [p]ause [r]esume [b]ypass [c]heckpoint [q]uit => \u001b[33mThe wordlist or mask that you are using is too small.\u001b[0m\n",
            "\u001b[33mThis means that hashcat cannot use the full parallel power of your device(s).\u001b[0m\n",
            "\u001b[33mUnless you supply more work, your cracking speed will drop.\u001b[0m\n",
            "\u001b[33mFor tips on supplying more work, see: https://hashcat.net/faq/morework\u001b[0m\n",
            "\u001b[33m\u001b[0m\n",
            "\u001b[33mApproaching final keyspace - workload adjusted.\u001b[0m\n",
            "\u001b[33m\u001b[0m\n",
            "00557e9d1dcd89164042625ef5dba40c:cos\n",
            "4613a1b81bf538b494fab43cb9108ea1:co%\n",
            "                                                          \n",
            "Session..........: hashcat\n",
            "Status...........: Exhausted\n",
            "Hash.Type........: NTLM\n",
            "Hash.Target......: ficheroHASHES.txt\n",
            "Time.Started.....: Tue Jan  5 11:09:25 2021 (0 secs)\n",
            "Time.Estimated...: Tue Jan  5 11:09:25 2021 (0 secs)\n",
            "Guess.Mask.......: ?a?a?a [3]\n",
            "Guess.Queue......: 3/8 (37.50%)\n",
            "Speed.Dev.#1.....:   398.6 kH/s (0.20ms)\n",
            "Recovered........: 6/12 (50.00%) Digests, 0/1 (0.00%) Salts\n",
            "Progress.........: 857375/857375 (100.00%)\n",
            "Rejected.........: 0/857375 (0.00%)\n",
            "Restore.Point....: 9025/9025 (100.00%)\n",
            "Candidates.#1....: sn  ->   ~\n",
            "HWMon.Dev.#1.....: Temp: 51c Util:100% Core:1215MHz Mem:5000MHz Bus:16\n",
            "\n",
            "- Device #1: autotuned kernel-accel to 256\n",
            "- Device #1: autotuned kernel-loops to 95\n",
            "[s]tatus [p]ause [r]esume [b]ypass [c]heckpoint [q]uit => \u001b[33mThe wordlist or mask that you are using is too small.\u001b[0m\n",
            "\u001b[33mThis means that hashcat cannot use the full parallel power of your device(s).\u001b[0m\n",
            "\u001b[33mUnless you supply more work, your cracking speed will drop.\u001b[0m\n",
            "\u001b[33mFor tips on supplying more work, see: https://hashcat.net/faq/morework\u001b[0m\n",
            "\u001b[33m\u001b[0m\n",
            "\u001b[33mApproaching final keyspace - workload adjusted.\u001b[0m\n",
            "\u001b[33m\u001b[0m\n",
            "4bf850b7e390f2f437603942423187c4:cosa\n",
            "                                                          \n",
            "Session..........: hashcat\n",
            "Status...........: Exhausted\n",
            "Hash.Type........: NTLM\n",
            "Hash.Target......: ficheroHASHES.txt\n",
            "Time.Started.....: Tue Jan  5 11:09:28 2021 (0 secs)\n",
            "Time.Estimated...: Tue Jan  5 11:09:28 2021 (0 secs)\n",
            "Guess.Mask.......: ?a?a?a?a [4]\n",
            "Guess.Queue......: 4/8 (50.00%)\n",
            "Speed.Dev.#1.....: 36701.6 kH/s (3.59ms)\n",
            "Recovered........: 7/12 (58.33%) Digests, 0/1 (0.00%) Salts\n",
            "Progress.........: 81450625/81450625 (100.00%)\n",
            "Rejected.........: 0/81450625 (0.00%)\n",
            "Restore.Point....: 857375/857375 (100.00%)\n",
            "Candidates.#1....: sn   ->   ~~\n",
            "HWMon.Dev.#1.....: Temp: 52c Util:100% Core:1545MHz Mem:5000MHz Bus:16\n",
            "\n",
            "\u001b[1;34m-----------------------------------------------------------------------------------------------\u001b[0m\n",
            "93cc2b4d5d1fccc38fab249a9aedb1e3:c\n",
            "8d3647093e662b9cf9d19c804c4655b6:?\n",
            "59c457395a6179a3784fb6dda1cb9d14:c#\n",
            "bf2a48ef8ac2e1705e93e823d9d2f7d7:co\n",
            "00557e9d1dcd89164042625ef5dba40c:cos\n",
            "4613a1b81bf538b494fab43cb9108ea1:co%\n",
            "4bf850b7e390f2f437603942423187c4:cosa\n",
            "\u001b[1;34m-----------------------------------------------------------------------------------------------\u001b[0m\n",
            "Mounted at /content/drive\n",
            "Guardando PorEnDrive: ./potfile.txt -> /content/drive/My\\ Drive/HashCats/F20210105-11H09M30S.potfile.txt\n",
            "- Device #1: autotuned kernel-accel to 256\n",
            "- Device #1: autotuned kernel-loops to 95\n",
            "\u001b[33mCracking performance lower than expected?\u001b[0m\n",
            "\u001b[33m\u001b[0m\n",
            "\u001b[33m* Update your OpenCL runtime / driver the right way:\u001b[0m\n",
            "\u001b[33m  https://hashcat.net/faq/wrongdriver\u001b[0m\n",
            "\u001b[33m\u001b[0m\n",
            "\u001b[33m* Create more work items to make use of your parallelization power:\u001b[0m\n",
            "\u001b[33m  https://hashcat.net/faq/morework\u001b[0m\n",
            "\u001b[33m\u001b[0m\n",
            "\u001b[33mApproaching final keyspace - workload adjusted.\u001b[0m\n",
            "\u001b[33m\u001b[0m\n",
            "                                                          \n",
            "Session..........: hashcat\n",
            "Status...........: Exhausted\n",
            "Hash.Type........: NTLM\n",
            "Hash.Target......: ficheroHASHES.txt\n",
            "Time.Started.....: Tue Jan  5 11:09:30 2021 (5 secs)\n",
            "Time.Estimated...: Tue Jan  5 11:09:35 2021 (0 secs)\n",
            "Guess.Mask.......: ?a?a?a?a?a [5]\n",
            "Guess.Queue......: 5/8 (62.50%)\n",
            "Speed.Dev.#1.....:  1004.2 MH/s (44.94ms)\n",
            "Recovered........: 7/12 (58.33%) Digests, 0/1 (0.00%) Salts\n",
            "Progress.........: 7737809375/7737809375 (100.00%)\n",
            "Rejected.........: 0/7737809375 (0.00%)\n",
            "Restore.Point....: 81450625/81450625 (100.00%)\n",
            "Candidates.#1....: s>~Yu ->   ~~~\n",
            "HWMon.Dev.#1.....: Temp: 55c Util:100% Core:1155MHz Mem:5000MHz Bus:16\n",
            "\n",
            "- Device #1: autotuned kernel-accel to 256\n",
            "- Device #1: autotuned kernel-loops to 512\n",
            "b57f325a2942488fd508c1c130d13682:cosuca\n",
            "[s]tatus [p]ause [r]esume [b]ypass [c]heckpoint [q]uit => \u001b[1;34m-----------------------------------------------------------------------------------------------\u001b[0m\n",
            "93cc2b4d5d1fccc38fab249a9aedb1e3:c\n",
            "8d3647093e662b9cf9d19c804c4655b6:?\n",
            "59c457395a6179a3784fb6dda1cb9d14:c#\n",
            "bf2a48ef8ac2e1705e93e823d9d2f7d7:co\n",
            "00557e9d1dcd89164042625ef5dba40c:cos\n",
            "4613a1b81bf538b494fab43cb9108ea1:co%\n",
            "4bf850b7e390f2f437603942423187c4:cosa\n",
            "b57f325a2942488fd508c1c130d13682:cosuca\n",
            "\u001b[1;34m-----------------------------------------------------------------------------------------------\u001b[0m\n",
            "Mounted at /content/drive\n",
            "Guardando PorEnDrive: ./potfile.txt -> /content/drive/My\\ Drive/HashCats/F20210105-11H10M19S.potfile.txt\n",
            "\u001b[33mApproaching final keyspace - workload adjusted.\u001b[0m\n",
            "\u001b[33m\u001b[0m\n",
            "                                                          \n",
            "Session..........: hashcat\n",
            "Status...........: Exhausted\n",
            "Hash.Type........: NTLM\n",
            "Hash.Target......: ficheroHASHES.txt\n",
            "Time.Started.....: Tue Jan  5 11:09:41 2021 (48 secs)\n",
            "Time.Estimated...: Tue Jan  5 11:10:29 2021 (0 secs)\n",
            "Guess.Mask.......: ?a?a?a?a?a?a [6]\n",
            "Guess.Queue......: 6/8 (75.00%)\n",
            "Speed.Dev.#1.....: 15301.2 MH/s (294.25ms)\n",
            "Recovered........: 8/12 (66.67%) Digests, 0/1 (0.00%) Salts\n",
            "Progress.........: 735091890625/735091890625 (100.00%)\n",
            "Rejected.........: 0/735091890625 (0.00%)\n",
            "Restore.Point....: 81450625/81450625 (100.00%)\n",
            "Candidates.#1....: #{\"~Yu ->  ~ ~~~\n",
            "HWMon.Dev.#1.....: Temp: 73c Util: 87% Core:1335MHz Mem:5000MHz Bus:16\n",
            "\n",
            "- Device #1: autotuned kernel-accel to 256\n",
            "- Device #1: autotuned kernel-loops to 512\n",
            "[s]tatus [p]ause [r]esume [b]ypass [c]heckpoint [q]uit => [s]tatus [p]ause [r]esume [b]ypass [c]heckpoint [q]uit => "
          ],
          "name": "stdout"
        },
        {
          "output_type": "error",
          "ename": "KeyboardInterrupt",
          "evalue": "ignored",
          "traceback": [
            "\u001b[0;31m---------------------------------------------------------------------------\u001b[0m",
            "\u001b[0;31mKeyboardInterrupt\u001b[0m                         Traceback (most recent call last)",
            "\u001b[0;32m<ipython-input-6-1206c20d2368>\u001b[0m in \u001b[0;36m<module>\u001b[0;34m()\u001b[0m\n\u001b[1;32m     66\u001b[0m   \u001b[0;32mwhile\u001b[0m \u001b[0mx\u001b[0m\u001b[0;34m.\u001b[0m\u001b[0misAlive\u001b[0m\u001b[0;34m(\u001b[0m\u001b[0;34m)\u001b[0m\u001b[0;34m:\u001b[0m\u001b[0;34m\u001b[0m\u001b[0;34m\u001b[0m\u001b[0m\n\u001b[1;32m     67\u001b[0m       \u001b[0;31m#Esperamos un tiempo a evaluar\u001b[0m\u001b[0;34m\u001b[0m\u001b[0;34m\u001b[0m\u001b[0;34m\u001b[0m\u001b[0m\n\u001b[0;32m---> 68\u001b[0;31m       \u001b[0mtime\u001b[0m\u001b[0;34m.\u001b[0m\u001b[0msleep\u001b[0m\u001b[0;34m(\u001b[0m\u001b[0mincrementoDeEspera\u001b[0m\u001b[0;34m)\u001b[0m\u001b[0;34m\u001b[0m\u001b[0;34m\u001b[0m\u001b[0m\n\u001b[0m\u001b[1;32m     69\u001b[0m       \u001b[0mcontadorsegundos\u001b[0m\u001b[0;34m=\u001b[0m\u001b[0mround\u001b[0m\u001b[0;34m(\u001b[0m\u001b[0;34m(\u001b[0m\u001b[0mdatetime\u001b[0m\u001b[0;34m.\u001b[0m\u001b[0mdatetime\u001b[0m\u001b[0;34m.\u001b[0m\u001b[0mnow\u001b[0m\u001b[0;34m(\u001b[0m\u001b[0;34m)\u001b[0m\u001b[0;34m-\u001b[0m\u001b[0minicioEjecucion\u001b[0m\u001b[0;34m)\u001b[0m\u001b[0;34m.\u001b[0m\u001b[0mtotal_seconds\u001b[0m\u001b[0;34m(\u001b[0m\u001b[0;34m)\u001b[0m\u001b[0;34m,\u001b[0m\u001b[0;36m0\u001b[0m\u001b[0;34m)\u001b[0m\u001b[0;34m\u001b[0m\u001b[0;34m\u001b[0m\u001b[0m\n\u001b[1;32m     70\u001b[0m       \u001b[0;31m#Comprobamos si se han encontrado nuevos hashes\u001b[0m\u001b[0;34m\u001b[0m\u001b[0;34m\u001b[0m\u001b[0;34m\u001b[0m\u001b[0m\n",
            "\u001b[0;31mKeyboardInterrupt\u001b[0m: "
          ]
        },
        {
          "output_type": "stream",
          "text": [
            "^C\n"
          ],
          "name": "stdout"
        }
      ]
    }
  ]
}