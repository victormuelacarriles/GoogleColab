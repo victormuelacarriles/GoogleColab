{
  "nbformat": 4,
  "nbformat_minor": 0,
  "metadata": {
    "colab": {
      "name": "Probando Hashcat.ipynb",
      "provenance": [],
      "authorship_tag": "ABX9TyP0eDgmsKYmBfNBSdFeALP8",
      "include_colab_link": true
    },
    "kernelspec": {
      "name": "python3",
      "display_name": "Python 3"
    },
    "accelerator": "GPU"
  },
  "cells": [
    {
      "cell_type": "markdown",
      "metadata": {
        "id": "view-in-github",
        "colab_type": "text"
      },
      "source": [
        "<a href=\"https://colab.research.google.com/github/victormuelacarriles/GoogleColab/blob/main/Probando_Hashcat.ipynb\" target=\"_parent\"><img src=\"https://colab.research.google.com/assets/colab-badge.svg\" alt=\"Open In Colab\"/></a>"
      ]
    },
    {
      "cell_type": "code",
      "metadata": {
        "id": "HZ1IOEJBxVOt"
      },
      "source": [
        "#!echo -e \"Esto es \\e[0;31mrojo\\e[0m y esto es \\e[1;34mazul resaltado\\e[0m\"  #https://sinfallas.wordpress.com/2016/07/08/colorear-texto-en-bash/\r\n",
        "\r\n",
        "!echo -e \"\\n\\e[1;34mPreparación del entorno\\e[0m (tardara un par de minutos mínimo). Esta parte sólo hace falta ejecutarla una vez.\"               \r\n",
        "!echo \"Buscando paquetes nuevos...\"\r\n",
        "!apt update -y -q > /dev/null 2>&1\r\n",
        "!echo \"Actualizando paquetes...\"\r\n",
        "!apt upgrade -y -q > /dev/null 2>&1\r\n",
        "!echo \"Instalando hascat ...\"\r\n",
        "!apt install hashcat -y -q > /dev/null 2>&1\r\n",
        "!echo \"Instalando utilidades de pci ...\"\r\n",
        "!apt install pciutils -y -q > /dev/null 2>&1\r\n",
        "!echo \"Comprobando tarjeta gráfica...\"\r\n",
        "GPU_CARD = !lspci | grep NVIDIA\r\n",
        "if not GPU_CARD:\r\n",
        "    !echo -e \"\\n\\e[31;1m[!] No se ha encontrado una GPU NVIDA! (Revisar: Editar->Configuración del cuaderno->Aceleración por Hardware->GPU\\e[34;1m\"\r\n",
        "    !lspci\r\n",
        "else:\r\n",
        "    !echo -e \"\\e[1;34mEncontrada tarjeta gráfica NVIDIA\\e[0m\"\r\n",
        "    !echo -e \"\\e[1;34mTest de Velocidad\\e[0m\" \r\n",
        "    !hashcat --benchmark -m$tipoHASH > TestDeVelocidad.txt 2>&1\r\n",
        "    !cat TestDeVelocidad.txt|grep Device\r\n",
        "    !cat TestDeVelocidad.txt|grep Speed\r\n",
        "    !echo -e \"\\e[1;34mListo para trabajar.\\e[0m\""
      ],
      "execution_count": null,
      "outputs": []
    },
    {
      "cell_type": "code",
      "metadata": {
        "id": "UsI7rkixetjf"
      },
      "source": [
        "#!rm ./potfile.txt\n",
        "tipoHASH=1000   #tipo NTLM   #https://www.browserling.com/tools/ntlm-hash\n",
        "#HASH ='4BF850B7E390F2F437603942423187C4' #cosa en NTLM\n",
        "#HASH ='B57F325A2942488FD508C1C130D13682' #cosuca en NTLM\n",
        "#HASH ='F700E1777EAD870B6543CEB06583E074' #usuaria en NTLM   \n",
        "#HASH ='F2AB082FA1B21C772EEA4193D454D7B0' #usuario en NTLM   \n",
        "#HASH ='2E910C3936F4836AC29BBDC307536524' #usuario@1 en NTLM \n",
        "#!echo $HASH >ficheroHASHES.txt\n",
        "\n",
        "for mascara in ['?a?a?a?a?a?a?a?a?a?a?a?a?a','?l?l?l?l?l?l?l?s?d','?u?l?l?l?l?l?l?s?d', '?u?u?u?u?u?u?u?u?u', '?a?a?a?a?a?a?a?a?a']:\n",
        "    !echo -e \"\\e[0;34mBuscando \\e[1;34m$mascara\\e[0m\"\n",
        "    !hashcat -m$tipoHASH -a3 -w4 -O --potfile-path ./potfile.txt --increment  ficheroHASHES.txt $mascara #> /dev/null 2>&1\n",
        "    SinEncontrar=!hashcat -m$tipoHASH -a3 -w4 -O --potfile-path ./potfile.txt --increment --quiet ficheroHASHES.txt $mascara --left\n",
        "    if not SinEncontrar:\n",
        "        !echo -e \"\\n\\e[0;34mResueltos todos los hashes!\\e[0m\"\n",
        "        !hashcat -m$tipoHASH -a3 -w4 -O --potfile-path ./potfile.txt --increment --quiet ficheroHASHES.txt $mascara --show\n",
        "        break\n",
        "\n",
        "\n"
      ],
      "execution_count": null,
      "outputs": []
    },
    {
      "cell_type": "code",
      "metadata": {
        "id": "Jae_9tGaWAJs"
      },
      "source": [
        "!hashcat -m$tipoHASH -a3 -w4 -O --potfile-path ./potfile.txt --increment  ficheroHASHES.txt '?a?a?a?a?a?a?a?a?a?a?a?a?a' #> /dev/null 2>&1"
      ],
      "execution_count": null,
      "outputs": []
    },
    {
      "cell_type": "code",
      "metadata": {
        "id": "vkImtU32579u"
      },
      "source": [
        "!hashcat --help"
      ],
      "execution_count": null,
      "outputs": []
    },
    {
      "cell_type": "code",
      "metadata": {
        "id": "JK2OvH7-6YM8"
      },
      "source": [
        "!hashcat -m$tipoHASH -a3 -w4 -O  --speed-only --quiet ficheroHASHES.txt ?l?l?l?l?l?l?l \r\n",
        "#!hashcat --benchmark -m1000 > benchmark.txt\r\n",
        "#!cat benchmark.txt|grep Device\r\n",
        "#!cat benchmark.txt|grep Speed"
      ],
      "execution_count": null,
      "outputs": []
    }
  ]
}