{
  "nbformat": 4,
  "nbformat_minor": 0,
  "metadata": {
    "colab": {
      "name": "Probando Hashcat.ipynb",
      "provenance": [],
      "collapsed_sections": [],
      "authorship_tag": "ABX9TyPDF31xQPC/LwDBm5vWy/yL",
      "include_colab_link": true
    },
    "kernelspec": {
      "name": "python3",
      "display_name": "Python 3"
    },
    "accelerator": "GPU"
  },
  "cells": [
    {
      "cell_type": "markdown",
      "metadata": {
        "id": "view-in-github",
        "colab_type": "text"
      },
      "source": [
        "<a href=\"https://colab.research.google.com/github/victormuelacarriles/GoogleColab/blob/main/Probando_Hashcat.ipynb\" target=\"_parent\"><img src=\"https://colab.research.google.com/assets/colab-badge.svg\" alt=\"Open In Colab\"/></a>"
      ]
    },
    {
      "cell_type": "markdown",
      "metadata": {
        "id": "BBf_t9MYleJ3"
      },
      "source": [
        "**Probando Hascat desde los servidores de google**\r\n",
        "Esta prueba se basa en modificaciones del proyecto Cloudtopolis (https://github.com/JoelGMSec/Cloudtopolis).\r\n",
        "\r\n",
        "En lugar de buscar multiples sesiones, simplemente se quiere ejecutar una sesión para resolver hashes (en concreto de NTML).\r\n",
        "Se ha divido en 3 secciones.\r\n",
        "\r\n",
        "1º) Preparar entorno\r\n",
        "2º) Preparar fichero con hashes\r\n",
        "3º) Ejecución de hashcat"
      ]
    },
    {
      "cell_type": "code",
      "metadata": {
        "id": "HZ1IOEJBxVOt"
      },
      "source": [
        "!echo -e \"\\n\\e[1;34mPreparación del entorno\\e[0m (tardara un par de minutos mínimo). Esta parte sólo hace falta ejecutarla una vez.\"               \r\n",
        "!echo \"Buscando paquetes nuevos...\"\r\n",
        "!apt update -y -q > /dev/null 2>&1\r\n",
        "!echo \"Actualizando paquetes...\"\r\n",
        "!apt upgrade -y -q > /dev/null 2>&1\r\n",
        "!echo \"Instalando hashcat ...\"\r\n",
        "!apt install hashcat -y -q > /dev/null 2>&1\r\n",
        "!echo \"Instalando utilidades de pci ...\"\r\n",
        "!apt install pciutils -y -q > /dev/null 2>&1\r\n",
        "!echo \"Comprobando tarjeta gráfica...\"\r\n",
        "GPU_CARD = !lspci | grep NVIDIA\r\n",
        "if not GPU_CARD:\r\n",
        "    !echo -e \"\\n\\e[31;1m[!] No se ha encontrado una GPU NVIDA! (Revisar: Editar->Configuración del cuaderno->Aceleración por Hardware->GPU\\e[34;1m\"\r\n",
        "    !lspci\r\n",
        "else:\r\n",
        "    !echo -e \"\\e[1;34mEncontrada tarjeta gráfica NVIDIA\\e[0m\"\r\n",
        "    !echo -e \"\\e[1;34mTest de Velocidad\\e[0m\" \r\n",
        "    !hashcat --benchmark -m1000 > TestDeVelocidad.txt 2>/dev/null\r\n",
        "    !cat TestDeVelocidad.txt|grep Device\r\n",
        "    !cat TestDeVelocidad.txt|grep Speed\r\n",
        "    !echo -e \"\\e[1;34mListo para trabajar.\\e[0m\""
      ],
      "execution_count": null,
      "outputs": []
    },
    {
      "cell_type": "code",
      "metadata": {
        "id": "CGTeu3wceoSA"
      },
      "source": [
        "!rm ficheroHASHES.txt 2>/dev/null\r\n",
        "tipoHASH=1000   #tipo NTLM   #https://www.browserling.com/tools/ntlm-hash\r\n",
        "\r\n",
        "#!echo _ >>ficheroHASHES.txt # _ en NTLM\r\n",
        "#!echo _ >>ficheroHASHES.txt # _ en NTLM\r\n",
        "!echo 93CC2B4D5D1FCCC38FAB249A9AEDB1E3 >>ficheroHASHES.txt # c en NTLM\r\n",
        "!echo 8D3647093E662B9CF9D19C804C4655B6 >>ficheroHASHES.txt # ? en NTLM\r\n",
        "!echo BF2A48EF8AC2E1705E93E823D9D2F7D7 >>ficheroHASHES.txt # co en NTLM\r\n",
        "!echo 59C457395A6179A3784FB6DDA1CB9D14 >>ficheroHASHES.txt # c# en NTLM\r\n",
        "!echo 00557E9D1DCD89164042625EF5DBA40C >>ficheroHASHES.txt # cos en NTLM\r\n",
        "!echo 4613A1B81BF538B494FAB43CB9108EA1 >>ficheroHASHES.txt # co% en NTLM\r\n",
        "!echo 4BF850B7E390F2F437603942423187C4 >>ficheroHASHES.txt #cosa en NTLM\r\n",
        "!echo 452C129E4FB354AD1D7D44F52236C2CB >>ficheroHASHES.txt #cos¿ en NTLM\r\n",
        "!echo B57F325A2942488FD508C1C130D13682 >>ficheroHASHES.txt #cosuca en NTLM\r\n",
        "!echo F700E1777EAD870B6543CEB06583E074 >>ficheroHASHES.txt #usuaria en NTLM   \r\n",
        "!echo F2AB082FA1B21C772EEA4193D454D7B0 >>ficheroHASHES.txt #usuario en NTLM   \r\n",
        "!echo 2E910C3936F4836AC29BBDC307536524 >>ficheroHASHES.txt #usuario@1 en NTLM\r\n",
        "!echo $HASH >>ficheroHASHES.txt"
      ],
      "execution_count": 7,
      "outputs": []
    },
    {
      "cell_type": "code",
      "metadata": {
        "id": "rNfuS0OR2rMv"
      },
      "source": [
        "#Trabajando como hilos\r\n",
        "import threading\r\n",
        "import time, datetime\r\n",
        "def MuestraContenidoPotFile( ficheroPot=\"./potfile.txt\"):\r\n",
        "    ContenidoPotFile=!cat $ficheroPorFileaUsar 2>/dev/null\r\n",
        "    if (not ContenidoPotFile ):\r\n",
        "      !echo -e \"\\e[1;34mPotfile vacio\\e[0m\"\r\n",
        "    else:\r\n",
        "      !echo -e \"\\e[1;34m-----------------------------------------------------------------------------------------------\\e[0m\"\r\n",
        "      !cat $ficheroPot  \r\n",
        "      !echo -e \"\\e[1;34m-----------------------------------------------------------------------------------------------\\e[0m\"\r\n",
        "    \r\n",
        "\r\n",
        "def EjecutaHashcatDeMascara(mascaraausar, tipoDeIncremento=\"--increment\", tipoHASH=1000,  ficheroPot=\"./potfile.txt\"):\r\n",
        "    inicio=datetime.datetime.now()\r\n",
        "    !echo -e \"\\e[0;34mBuscando \\e[1;34m\"$mascaraausar\" \"$tipoDeIncremento \" tipoHASH=\"$tipoHASH \" ficheroPot=\"$ficheroPot \"\\e[0m\"\r\n",
        "    !hashcat -m$tipoHASH -a3 -w4 -O --potfile-path $ficheroPot $tipoDeIncremento  ficheroHASHES.txt $mascaraausar > /dev/null #2>&1\r\n",
        "    SinEncontrar=!hashcat -m$tipoHASH -a3 -w4 -O --potfile-path $ficheroPot $tipoDeIncremento --quiet ficheroHASHES.txt $mascaraausar --left\r\n",
        "    fin=datetime.datetime.now()\r\n",
        "    segundosEmpleados=round((fin-inicio).total_seconds(),2)\r\n",
        "    !echo -e \"\\e[1;34mFin de máscara \" $mascaraausar \". Resueltos (\"$segundosEmpleados\"sg):\\e[0;34m\"\r\n",
        "    MuestraContenidoPotFile(ficheroPot)\r\n",
        "\r\n",
        "ficheroPorFileaUsar=\"./potfile.txt\"\r\n",
        "inicioEjecucion=datetime.datetime.now()\r\n",
        "!rm $ficheroPorFileaUsar\r\n",
        "for mascara in ['?a?a?a?a?a?a?a?a?a?a?a?a?a']: #, \"?a?l?a?a\"\r\n",
        "  x = threading.Thread(target=EjecutaHashcatDeMascara, args=(mascara,), daemon=False)\r\n",
        "  x.start()\r\n",
        "  contadorsegundos=0; incrementoDeEspera=1\r\n",
        "  ContenidoPotFileAnterior=\"\"\r\n",
        "  while x.isAlive():\r\n",
        "      #Esperamos un tiempo a evaluar\r\n",
        "      time.sleep(incrementoDeEspera)\r\n",
        "      contadorsegundos=round((datetime.datetime.now()-inicioEjecucion).total_seconds(),0) \r\n",
        "      #Comprobamos si se han encontrado nuevos hashes\r\n",
        "      ContenidoPotFile=!cat $ficheroPorFileaUsar\r\n",
        "      if (ContenidoPotFile != ContenidoPotFileAnterior):\r\n",
        "        MuestraContenidoPotFile()\r\n",
        "      ContenidoPotFileAnterior=ContenidoPotFile\r\n",
        "      #Cada 5minutos mostramos un contador (....TODO: y salvamos hashes en GoogleDrive)\r\n",
        "      if (contadorsegundos%(60)==0 and contadorsegundos>0):\r\n",
        "        print(datetime.datetime.now(),': Tiempo transcurrido ' , contadorsegundos/60 , 'mn....')\r\n",
        "      #Aumentamos el contador de tiempo\r\n",
        "      \r\n"
      ],
      "execution_count": null,
      "outputs": []
    },
    {
      "cell_type": "code",
      "metadata": {
        "id": "vkImtU32579u"
      },
      "source": [
        "#Para ver la ayuda de hascat completa:\r\n",
        "!hashcat --help"
      ],
      "execution_count": null,
      "outputs": []
    },
    {
      "cell_type": "code",
      "metadata": {
        "id": "Jae_9tGaWAJs"
      },
      "source": [
        "#Ejemplo de ejecución\r\n",
        "!hashcat -m$tipoHASH -a3 -w4 -O --potfile-path ./potfile.txt --increment ficheroHASHES.txt '?u' "
      ],
      "execution_count": null,
      "outputs": []
    }
  ]
}