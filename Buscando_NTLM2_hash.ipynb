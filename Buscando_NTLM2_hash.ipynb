{
  "nbformat": 4,
  "nbformat_minor": 0,
  "metadata": {
    "accelerator": "GPU",
    "colab": {
      "name": "Buscando NTLM2 hash.ipynb",
      "provenance": [],
      "collapsed_sections": [],
      "toc_visible": true,
      "authorship_tag": "ABX9TyPwJ+QEiH6EO8WdThuOW931",
      "include_colab_link": true
    },
    "kernelspec": {
      "display_name": "Python 3",
      "name": "python3"
    }
  },
  "cells": [
    {
      "cell_type": "markdown",
      "metadata": {
        "id": "view-in-github",
        "colab_type": "text"
      },
      "source": [
        "<a href=\"https://colab.research.google.com/github/victormuelacarriles/GoogleColab/blob/main/Buscando_NTLM2_hash.ipynb\" target=\"_parent\"><img src=\"https://colab.research.google.com/assets/colab-badge.svg\" alt=\"Open In Colab\"/></a>"
      ]
    },
    {
      "cell_type": "markdown",
      "metadata": {
        "id": "BBf_t9MYleJ3"
      },
      "source": [
        "**Probando Hascat desde los servidores de google**\r\n",
        "Esta prueba se basa en modificaciones del proyecto Cloudtopolis (https://github.com/JoelGMSec/Cloudtopolis).\r\n",
        "\r\n",
        "En lugar de buscar multiples sesiones, simplemente se quiere ejecutar una sesión para resolver hashes (en concreto de NTML).\r\n",
        "Se ha divido en varias secciones:\r\n",
        "\r\n",
        "1º) Preparar entorno\r\n",
        "2º) Preparar fichero con hashes\r\n",
        "3º) Comprobar velocidad de trabajo\r\n",
        "4º) Busqueda de hashes"
      ]
    },
    {
      "cell_type": "markdown",
      "metadata": {
        "id": "ijf26YYy3E-Q"
      },
      "source": [
        "# 1º)Preparación de entorno\r\n",
        "Se actualizan paquetes e instalan hascat y utilidades para comprobar la tarjeta gráfica. "
      ]
    },
    {
      "cell_type": "code",
      "metadata": {
        "id": "HZ1IOEJBxVOt"
      },
      "source": [
        "!echo -e \"\\n\\e[1;34mPreparación del entorno\\e[0m (tardara un par de minutos mínimo). Esta parte sólo hace falta ejecutarla una vez.\"               \r\n",
        "!echo \"Buscando paquetes nuevos...\"\r\n",
        "!apt update -y -q > /dev/null 2>&1\r\n",
        "!echo \"Actualizando paquetes...\"\r\n",
        "!apt upgrade -y -q > /dev/null 2>&1\r\n",
        "!echo \"Instalando hashcat ...\"\r\n",
        "!apt install hashcat -y -q > /dev/null 2>&1\r\n",
        "!echo \"Instalando utilidades de pci ...\"\r\n",
        "!apt install pciutils -y -q > /dev/null 2>&1\r\n",
        "Rockyoutxt = !ls /content/rockyou.txt\r\n",
        "if not \"/content/rockyou.txt\" in Rockyoutxt:\r\n",
        "        # Downloading Rockyou\r\n",
        "        !echo -e \"\\e[0mDiccionario Rockyou no encontrado!\"\r\n",
        "        !echo -e \"\\n\\e[34;1mDescargando Rockyou..\"\r\n",
        "        !wget --quiet https://download.weakpass.com/wordlists/90/rockyou.txt.gz\r\n",
        "        !wget --quiet https://raw.githubusercontent.com/hashcat/hashcat/master/rules/rockyou-30000.rule\r\n",
        "\r\n",
        "        # Extracting wordlist\r\n",
        "        !echo -e \"\\e[0mExtrayendo Rockyou..\"\r\n",
        "        !gunzip -f rockyou.txt.gz > /dev/null 2>&1\r\n",
        "\r\n",
        "\r\n",
        "!echo -e \"\\e[1;34mListo para trabajar. Asegúrate de tener un fichero 'ficheroHASHES.txt' creado antes de empezar la explotación\\e[0m\"\r\n"
      ],
      "execution_count": null,
      "outputs": []
    },
    {
      "cell_type": "markdown",
      "metadata": {
        "id": "XomHyBam3NDK"
      },
      "source": [
        "# 2º) Preparación de fichero con hashes\r\n",
        "Se crea el fichero \"ficheroHASHES.txt\" con unos cuantos hashes de ejemplo de tipo NTLM. \r\n",
        "Se establece la variable tipoHASH a 1000 (para indicar el tipo NTLM). Para otros tipos ver la ayuda de hashcat.\r\n"
      ]
    },
    {
      "cell_type": "code",
      "metadata": {
        "id": "CGTeu3wceoSA"
      },
      "source": [
        "!rm ficheroHASHES.txt 2>/dev/null\r\n",
        "tipoHASH= 5600   #tipo NTLM2   #https://www.browserling.com/tools/ntlm-hash\r\n",
        "#tipoHASH=1000 #NTLM\r\n",
        "\r\n",
        "#!echo _ >>ficheroHASHES.txt # _ en NTLM\r\n",
        "#!echo _ >>ficheroHASHES.txt # _ en NTLM\r\n",
        "\r\n",
        "!echo >ficheroHASHES.txt\r\n",
        "#Ejemplo: usuario \"DOMINIO\\administrador\" con el hash de su password 'usuario@1'\r\n",
        "!echo Administrador::DOMINIO:eb63ebe969b740bc:E48E1EB16045F5823B64C4A368B25D07:01010000000000001C7233C170DFD601626BF2E5CB9C1D54000000000200060053004D0042000100160053004D0042002D0054004F004F004C004B00490054000400120073006D0062002E006C006F00630061006C000300280073006500720076006500720032003000300033002E0073006D0062002E006C006F00630061006C000500120073006D0062002E006C006F00630061006C000800300030000000000000000000000000300000A15D9019357C09267DC86DBE72CE15A4B63D58BEAE68365C81D90857C8E641D70A001000000000000000000000000000000000000900120048005400540050002F0077007000610064000000000000000000>>ficheroHASHES.txt\r\n",
        "!echo -e \"\\e[1;34mCreado fichero de hashes tipo \"$tipoHASH\". Contenido:\\e[0m\"\r\n",
        "!cat ficheroHASHES.txt\r\n",
        "\r\n"
      ],
      "execution_count": null,
      "outputs": []
    },
    {
      "cell_type": "markdown",
      "metadata": {
        "id": "RTehjNYf4y6Y"
      },
      "source": [
        "#3º) Comprobación de velocidad para búsquedas de tipo 1000 (NTLM).\r\n",
        "Referencia Tarjeta gráfica básica:   GeForce GT 1030, 1660/2048 MB, 3MCU\r\n",
        "Speed.:  6717.8 MH/s (29.78ms) @ Accel:64 Loops:1024 Thr:1024 Vec:8\r\n"
      ]
    },
    {
      "cell_type": "code",
      "metadata": {
        "id": "pvId-nI_4BBR"
      },
      "source": [
        "GPU_CARD = !lspci | grep NVIDIA\r\n",
        "if not GPU_CARD:\r\n",
        "    !echo -e \"\\n\\e[31;1m[!] No se ha encontrado una GPU NVIDA! (Revisar: Editar->Configuración del cuaderno->Aceleración por Hardware->GPU\\e[34;1m\"\r\n",
        "    !lspci\r\n",
        "else:\r\n",
        "    !echo -e \"\\e[1;34mEncontrada tarjeta gráfica NVIDIA\\e[0m\"\r\n",
        "    !echo -e \"\\e[1;34mTest de Velocidad para tipo 1000\\e[0m\" \r\n",
        "    !hashcat --benchmark -m1000 > TestDeVelocidad.txt 2>/dev/null\r\n",
        "    !cat TestDeVelocidad.txt|grep Device\r\n",
        "    !cat TestDeVelocidad.txt|grep Speed\r\n",
        "   "
      ],
      "execution_count": null,
      "outputs": []
    },
    {
      "cell_type": "markdown",
      "metadata": {
        "id": "CRRMoS_3IRe2"
      },
      "source": [
        "# 4º) Búsqueda de Hashes"
      ]
    },
    {
      "cell_type": "markdown",
      "metadata": {
        "id": "sxnsSAoe7w-_"
      },
      "source": [
        "## 4a) Ataque de diccionario"
      ]
    },
    {
      "cell_type": "code",
      "metadata": {
        "id": "Jae_9tGaWAJs"
      },
      "source": [
        "#Ejemplo de ejecución\r\n",
        "if not tipoHASH:\r\n",
        "  tipoHASH=5600  #NTLMv2\r\n",
        "  #tipoHASH=1000 #NTLM\r\n",
        "#Ataque de diccionario basado en rockyou.txt con reglas de variación\r\n",
        "!hashcat -a 0 -m $tipoHASH --potfile-path ./potfile.txt ficheroHASHES.txt ./rockyou.txt -r ./rockyou-30000.rule -O \r\n"
      ],
      "execution_count": null,
      "outputs": []
    },
    {
      "cell_type": "markdown",
      "metadata": {
        "id": "EwEVWgWXAU83"
      },
      "source": [
        "## 4b) Ataque de fuerza bruta incremental"
      ]
    },
    {
      "cell_type": "code",
      "metadata": {
        "id": "m0xpShCC-cLT"
      },
      "source": [
        "#Ejemplo de ejecución\r\n",
        "if not tipoHASH:\r\n",
        "  tipoHASH=5600  #NTLMv2\r\n",
        "  #tipoHASH=1000 #NTLM\r\n",
        "\r\n",
        "#!hashcat -m$tipoHASH -a3 -w4 -O --potfile-path ./potfile.txt  --increment ficheroHASHES.txt '?a?a?a?a?a?a?a?a?a' -O\r\n",
        "\r\n",
        "\r\n",
        "!echo -e \"\\n\\e[1;34mAtaque de hasta 6 '?a' (20min aprox) \\e[0m (?a= cualquier digito, letra mayuscula o minúscula y simbolos estandar) \"\r\n",
        "!hashcat -m$tipoHASH -a3 -w4 -O --potfile-path ./potfile.txt  --increment ficheroHASHES.txt '?a?a?a?a?a?a' -O    #hasta 2 minutos -> 13 minutos\r\n",
        "#!hashcat -m$tipoHASH -a3 -w4 -O --potfile-path ./potfile.txt  ficheroHASHES.txt '?a?a?a?a?a?a?a' -O   # 6 13min\r\n",
        " # ? | Charset\r\n",
        " #===+=========\r\n",
        " # l | abcdefghijklmnopqrstuvwxyz\r\n",
        " # u | ABCDEFGHIJKLMNOPQRSTUVWXYZ\r\n",
        " # d | 0123456789\r\n",
        " # h | 0123456789abcdef\r\n",
        " # H | 0123456789ABCDEF\r\n",
        " # s |  !\"#$%&'()*+,-./:;<=>?@[\\]^_`{|}~\r\n",
        " # a | ?l?u?d?s\r\n",
        " # b | 0x00 - 0xff\r\n",
        "\r\n",
        "#!hashcat -m 5600 -a 3 --potfile-path ./potfile.txt ficheroHASHES.txt   #https://medium.com/@petergombos/lm-ntlm-net-ntlmv2-oh-my-a9b235c58ed4"
      ],
      "execution_count": null,
      "outputs": []
    },
    {
      "cell_type": "markdown",
      "metadata": {
        "id": "mQ4g3sKSBmDC"
      },
      "source": [
        "#Ayuda de hashcat"
      ]
    },
    {
      "cell_type": "code",
      "metadata": {
        "id": "vkImtU32579u"
      },
      "source": [
        "#Para ver la ayuda de hascat completa:\r\n",
        "!hashcat --help"
      ],
      "execution_count": null,
      "outputs": []
    }
  ]
}